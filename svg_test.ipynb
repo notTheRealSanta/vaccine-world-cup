{
 "cells": [
  {
   "cell_type": "code",
   "execution_count": null,
   "metadata": {},
   "outputs": [],
   "source": []
  },
  {
   "cell_type": "markdown",
   "metadata": {},
   "source": [
    "# Imports"
   ]
  },
  {
   "cell_type": "code",
   "execution_count": 280,
   "metadata": {},
   "outputs": [],
   "source": [
    "import pandas as pd\n",
    "import numpy as np\n",
    "import svgwrite"
   ]
  },
  {
   "cell_type": "markdown",
   "metadata": {},
   "source": [
    "# Data"
   ]
  },
  {
   "cell_type": "code",
   "execution_count": 422,
   "metadata": {},
   "outputs": [
    {
     "name": "stdout",
     "output_type": "stream",
     "text": [
      "<class 'pandas.core.frame.DataFrame'>\n",
      "Int64Index: 10353 entries, 1 to 10353\n",
      "Data columns (total 12 columns):\n",
      " #   Column                               Non-Null Count  Dtype  \n",
      "---  ------                               --------------  -----  \n",
      " 0   location                             10353 non-null  object \n",
      " 1   iso_code                             10353 non-null  object \n",
      " 2   date                                 10353 non-null  object \n",
      " 3   total_vaccinations                   6527 non-null   object \n",
      " 4   people_vaccinated                    5922 non-null   float64\n",
      " 5   people_fully_vaccinated              4222 non-null   float64\n",
      " 6   daily_vaccinations_raw               5552 non-null   float64\n",
      " 7   daily_vaccinations                   10162 non-null  object \n",
      " 8   total_vaccinations_per_hundred       6527 non-null   float64\n",
      " 9   people_vaccinated_per_hundred        5922 non-null   float64\n",
      " 10  people_fully_vaccinated_per_hundred  4222 non-null   float64\n",
      " 11  daily_vaccinations_per_million       10162 non-null  float64\n",
      "dtypes: float64(7), object(5)\n",
      "memory usage: 1.0+ MB\n"
     ]
    }
   ],
   "source": [
    "vac_df = pd.read_csv('/Users/santa/Projects/vaccine-world-cup/data/data.csv').drop(0)\n",
    "vac_df.info()"
   ]
  },
  {
   "cell_type": "code",
   "execution_count": 423,
   "metadata": {},
   "outputs": [],
   "source": [
    "vac_df.total_vaccinations = pd.to_numeric(vac_df.total_vaccinations)\n",
    "vac_df.date = pd.to_datetime(vac_df.date)"
   ]
  },
  {
   "cell_type": "code",
   "execution_count": 424,
   "metadata": {},
   "outputs": [
    {
     "data": {
      "text/html": "<div>\n<style scoped>\n    .dataframe tbody tr th:only-of-type {\n        vertical-align: middle;\n    }\n\n    .dataframe tbody tr th {\n        vertical-align: top;\n    }\n\n    .dataframe thead th {\n        text-align: right;\n    }\n</style>\n<table border=\"1\" class=\"dataframe\">\n  <thead>\n    <tr style=\"text-align: right;\">\n      <th></th>\n      <th>location</th>\n      <th>iso_code</th>\n      <th>date</th>\n      <th>total_vaccinations</th>\n      <th>people_vaccinated</th>\n      <th>people_fully_vaccinated</th>\n      <th>daily_vaccinations_raw</th>\n      <th>daily_vaccinations</th>\n      <th>total_vaccinations_per_hundred</th>\n      <th>people_vaccinated_per_hundred</th>\n      <th>people_fully_vaccinated_per_hundred</th>\n      <th>daily_vaccinations_per_million</th>\n    </tr>\n  </thead>\n  <tbody>\n    <tr>\n      <th>10205</th>\n      <td>World</td>\n      <td>OWID_WRL</td>\n      <td>2020-12-20</td>\n      <td>2780165.0</td>\n      <td>1267427.0</td>\n      <td>NaN</td>\n      <td>1153245.0</td>\n      <td>384814</td>\n      <td>0.04</td>\n      <td>0.02</td>\n      <td>NaN</td>\n      <td>49.0</td>\n    </tr>\n  </tbody>\n</table>\n</div>",
      "text/plain": "      location  iso_code       date  total_vaccinations  people_vaccinated  \\\n10205    World  OWID_WRL 2020-12-20           2780165.0          1267427.0   \n\n       people_fully_vaccinated  daily_vaccinations_raw daily_vaccinations  \\\n10205                      NaN               1153245.0             384814   \n\n       total_vaccinations_per_hundred  people_vaccinated_per_hundred  \\\n10205                            0.04                           0.02   \n\n       people_fully_vaccinated_per_hundred  daily_vaccinations_per_million  \n10205                                  NaN                            49.0  "
     },
     "execution_count": 424,
     "metadata": {},
     "output_type": "execute_result"
    }
   ],
   "source": [
    "vac_df[vac_df.location=='World'].sample(1)"
   ]
  },
  {
   "cell_type": "code",
   "execution_count": 425,
   "metadata": {},
   "outputs": [
    {
     "data": {
      "text/html": "<div>\n<style scoped>\n    .dataframe tbody tr th:only-of-type {\n        vertical-align: middle;\n    }\n\n    .dataframe tbody tr th {\n        vertical-align: top;\n    }\n\n    .dataframe thead th {\n        text-align: right;\n    }\n</style>\n<table border=\"1\" class=\"dataframe\">\n  <thead>\n    <tr style=\"text-align: right;\">\n      <th></th>\n      <th>entity</th>\n      <th>iso_code</th>\n      <th>year</th>\n      <th>population</th>\n    </tr>\n  </thead>\n  <tbody>\n    <tr>\n      <th>0</th>\n      <td>Afghanistan</td>\n      <td>AFG</td>\n      <td>2020</td>\n      <td>38928341</td>\n    </tr>\n    <tr>\n      <th>1</th>\n      <td>Albania</td>\n      <td>ALB</td>\n      <td>2020</td>\n      <td>2877800</td>\n    </tr>\n    <tr>\n      <th>2</th>\n      <td>Algeria</td>\n      <td>DZA</td>\n      <td>2020</td>\n      <td>43851043</td>\n    </tr>\n    <tr>\n      <th>3</th>\n      <td>American Samoa</td>\n      <td>ASM</td>\n      <td>2020</td>\n      <td>55197</td>\n    </tr>\n    <tr>\n      <th>4</th>\n      <td>Andorra</td>\n      <td>AND</td>\n      <td>2020</td>\n      <td>77265</td>\n    </tr>\n  </tbody>\n</table>\n</div>",
      "text/plain": "           entity iso_code  year  population\n0     Afghanistan      AFG  2020    38928341\n1         Albania      ALB  2020     2877800\n2         Algeria      DZA  2020    43851043\n3  American Samoa      ASM  2020       55197\n4         Andorra      AND  2020       77265"
     },
     "execution_count": 425,
     "metadata": {},
     "output_type": "execute_result"
    }
   ],
   "source": [
    "pop_df = pd.read_csv('/Users/santa/Projects/vaccine-world-cup/data/pop_data.csv')\n",
    "pop_df.head()"
   ]
  },
  {
   "cell_type": "code",
   "execution_count": 426,
   "metadata": {},
   "outputs": [
    {
     "name": "stdout",
     "output_type": "stream",
     "text": [
      "<class 'pandas.core.frame.DataFrame'>\n",
      "Int64Index: 9838 entries, 0 to 9837\n",
      "Data columns (total 6 columns):\n",
      " #   Column                         Non-Null Count  Dtype         \n",
      "---  ------                         --------------  -----         \n",
      " 0   location                       9838 non-null   object        \n",
      " 1   date                           9838 non-null   datetime64[ns]\n",
      " 2   iso_code                       9838 non-null   object        \n",
      " 3   people_vaccinated              5576 non-null   float64       \n",
      " 4   people_vaccinated_per_hundred  5576 non-null   float64       \n",
      " 5   population                     9838 non-null   int64         \n",
      "dtypes: datetime64[ns](1), float64(2), int64(1), object(2)\n",
      "memory usage: 538.0+ KB\n"
     ]
    }
   ],
   "source": [
    "df = vac_df[['location','date','iso_code','people_vaccinated','people_vaccinated_per_hundred']].merge(pop_df[['iso_code','population']], on=['iso_code'], how='inner')\n",
    "df.info()"
   ]
  },
  {
   "cell_type": "markdown",
   "metadata": {},
   "source": [
    "# SVG"
   ]
  },
  {
   "cell_type": "code",
   "execution_count": 375,
   "metadata": {},
   "outputs": [],
   "source": [
    "HEIGHT = 800\n",
    "WIDTH = 200"
   ]
  },
  {
   "cell_type": "code",
   "execution_count": 428,
   "metadata": {},
   "outputs": [
    {
     "data": {
      "text/plain": "4.76"
     },
     "execution_count": 428,
     "metadata": {},
     "output_type": "execute_result"
    }
   ],
   "source": [
    "df[df.location=='India'].people_vaccinated_per_hundred.max()"
   ]
  },
  {
   "cell_type": "code",
   "execution_count": 483,
   "metadata": {},
   "outputs": [
    {
     "name": "stdout",
     "output_type": "stream",
     "text": [
      "L 0.0 799.982707 L 1 ::: 99999998 727.261023 \n",
      "World ['China']\n",
      "L 0.0 800.0 L 1.4 80 ::: 99999998 786.852106 \n",
      "India ['China']\n",
      "L 0.0 800.0 L 1.4 80 ::: 9999998 779.1573044 \n",
      "United States ['China']\n",
      "L 0.0 800.0 L 1.4 80 ::: 9999998 788.8784882 \n",
      "European Union ['China']\n",
      "L 0.0 800.0 L 1.4 80 ::: 9999998 798.4896736 \n",
      "Africa ['China']\n",
      "L 0.0 800.0 L 1.4 80 ::: 99999998 793.879511 \n",
      "South America ['China']\n",
      "L 0.0 800.0 L 1.4 80 ::: 9999999999998 800.0 \n",
      "China ['China']\n"
     ]
    }
   ],
   "source": [
    "dont_draw_list = ['China']\n",
    "draw_text_finish_line_list = [\"World\"]\n",
    "\n",
    "def get_graph_for_location( location, color='black', hor_scale=1.4, ver_scale=2, emoji=\"🏳\"): \n",
    "    fill = color\n",
    "\n",
    "    format_df = df[df.location=='World'].sort_values('date').reset_index()['date'].to_frame()\n",
    "    location_df = df[df.location==location].set_index('date').people_vaccinated.fillna(method='bfill').to_frame().reset_index()\n",
    "    m_df = format_df.merge(location_df, on=['date'], how='left').fillna(0)\n",
    "\n",
    "    vacc_list = [ HEIGHT-(i * ver_scale) for i in ((m_df.people_vaccinated/10000000).values.tolist())]\n",
    "    ran_list = [ (i * hor_scale) for i in  list(range(0, len(vacc_list)))]\n",
    "    path_string = \"\"\n",
    "    for i,j in zip(ran_list, vacc_list) :\n",
    "        path_string += \"L \"\n",
    "        path_string += (str(i)+\" \")\n",
    "        path_string += (str(j)+\" \")\n",
    "    print(path_string[:20],\":::\", path_string[-20:])\n",
    "    d_string_area = 'M 0 '+str(HEIGHT)+ path_string + 'L '+str(ran_list[-1])+' '+str(HEIGHT)+' z'\n",
    "    d_string_line = 'M 0 '+str(HEIGHT)+ path_string + ' '\n",
    "    \n",
    "    area_svg = \"<path fill=\\\"{1}\\\" stroke-width=0.5 opacity=0.1 d=\\\"{0}\\\"/>\".format(d_string_area, color)\n",
    "    line_svg = \"<path fill=\\\"none\\\" stroke-width=0.5 stroke=\\\"{1}\\\" d=\\\"{0}\\\"/>\".format(d_string_line, color)\n",
    "\n",
    "    text_svg = '''\n",
    "    <text \n",
    "        x=\"{0}\" y=\"{1}\" \n",
    "        font-family=\"Verdana\" \n",
    "        text-anchor=\"start\" \n",
    "        font-size=\"4\" \n",
    "        transform=\"scale (0.5,1)\" \n",
    "        fill=\"{3}\">\n",
    "        {4}&nbsp;{2}&nbsp;\n",
    "            <tspan\n",
    "                font-family=\"Verdana\" \n",
    "                text-anchor=\"start\" \n",
    "                font-size=\"3\" \n",
    "                transform=\"scale (0.5,1)\" \n",
    "                fill=\"#eee\">\n",
    "                {5:.1f}%\n",
    "            </tspan>\n",
    "    </text>'''.format(\n",
    "        ran_list[-1]*2 + 2,\n",
    "        vacc_list[-1],\n",
    "        location,\n",
    "        color,\n",
    "        emoji,\n",
    "        df[df.location==location].people_vaccinated_per_hundred.max()\n",
    "    )\n",
    "\n",
    "    finish_line_loc = HEIGHT - df[df.location==location].population.values[0]/10000000\n",
    "    finish_line_svg = '''\n",
    "    <path \n",
    "        fill=\"none\" stroke=\"{color}\" \n",
    "        stroke-width=\"0.5\" \n",
    "        stroke-dasharray=\"1,0.5\" \n",
    "        d=\"M0 {value} l200 0\">\n",
    "    </path>'''.format( \n",
    "        value =  finish_line_loc,\n",
    "        color = color)\n",
    "\n",
    "    if location in draw_text_finish_line_list:\n",
    "        finish_line_svg +='''\n",
    "        <text x=\"375\" y=\"{value}\" \n",
    "        font-family=\"Verdana\" \n",
    "        text-anchor=\"end\" font-size=\"5\" transform=\"scale (0.5,1)\" fill=\"white\">World Finish Line</text>'''.format(value=finish_line_loc-1)\n",
    "\n",
    "    print(location, dont_draw_list)\n",
    "    if location in dont_draw_list:\n",
    "        ret_string = \"\\t {}\".format(finish_line_svg)\n",
    "    else :\n",
    "        ret_string =  \"\\t {0}\\n\\t {1}\\n\\t {2}\\n\\t {3}\".format(area_svg, line_svg,text_svg, finish_line_svg)\n",
    "\n",
    "    return ret_string\n",
    "\n",
    "def group_location (locations = [], colors = [], emoji=[]):\n",
    "    ret_string = \"\"\n",
    "\n",
    "    for l, c, e in zip(locations, colors, emoji):\n",
    "        ret_string += (get_graph_for_location(location=l, color=c, emoji=e))\n",
    "\n",
    "    return ret_string\n",
    "\n",
    "def grid_pattern():\n",
    "\n",
    "    ret_string = '''\n",
    "        <defs>\n",
    "            <pattern \n",
    "                id=\"pattern1\" \n",
    "                patternUnits=\"userSpaceOnUse\" \n",
    "                x=\"0\" y=\"0\" width=\"10\" height=\"10\" \n",
    "                viewBox=\"0 0 4 4\">\n",
    "                <path \n",
    "                    d=\"M 0 0 L 0 4 L 4 4 L 4 0 Z\" \n",
    "                    fill=\"none\" \n",
    "                    stroke-width=\"0.05\" \n",
    "                    stroke=\"#575757\"></path>\n",
    "            </pattern>\n",
    "  \n",
    "        </defs>\n",
    "        <g>\n",
    "            <rect x=\"0\" y=\"0\" \n",
    "                  width=\"100%\" \n",
    "                  height=\"100%\" \n",
    "                  fill=\"url(#pattern1)\" />\n",
    "        </g>\n",
    "    '''\n",
    "    return ret_string\n",
    "\n",
    "def background():\n",
    "    return '''\n",
    "        <defs xmlns=\"http://www.w3.org/2000/svg\">\n",
    "\t\t\t\t\t<linearGradient xmlns=\"http://www.w3.org/2000/svg\" id=\"gradient-fill\" x1=\"0\" y1=\"0\" x2=\"800\" y2=\"0\" gradientUnits=\"userSpaceOnUse\">\t\t\t\t\n",
    "\t\t\t\t\t\t\t<stop offset=\"0\" stop-color=\"#060d20\"/>\n",
    "                            <stop offset=\"0.14285714285714285\" stop-color=\"#091228\"/>\n",
    "                            <stop offset=\"0.2857142857142857\" stop-color=\"#091630\"/>\n",
    "                            <stop offset=\"0.42857142857142855\" stop-color=\"#091a38\"/>\n",
    "                            <stop offset=\"0.5714285714285714\" stop-color=\"#0a1d40\"/>\n",
    "                            <stop offset=\"0.7142857142857142\" stop-color=\"#0b2149\"/>\n",
    "                            <stop offset=\"0.8571428571428571\" stop-color=\"#0c2451\"/>\n",
    "                            <stop offset=\"1\" stop-color=\"#0e285a\"/>\n",
    "\t\t\t\t\t</linearGradient>\n",
    "\t\t\t\t</defs>\n",
    "\n",
    "    <rect fill=\"url(#gradient-fill)\" width=\"200\" height=\"800\"/>\n",
    "    '''\n",
    "\n",
    "html_string = '''\n",
    "<html style=\"width:100%;height:100%;\">\n",
    "<body style=\"width:100%;height:100%;margin:0;\">\n",
    "<div style=\"height: 400%; width: 100%; border:2px solid #000; overflow: scroll; position: absolute;\" >\n",
    "  <svg height=\"100%\" width=\"100%\" viewBox=\"0 0 200 800\"  position=\"absolute\" preserveAspectRatio=\"none\" >\n",
    "    <path fill=\"none\" stroke=\"black\" stroke-width=\"4\" stroke-dasharray=\"5,5\" d=\"M5 20 l215 0\" />\n",
    "{background}\n",
    "{grid_pattern}\n",
    "{group_location}\n",
    " </svg>\n",
    "</div>\n",
    "\n",
    "<div style=\"height: 70%;width: 35%;border:2px;top:15%;left: 3%;background-color: #fff;position:relative;\">\n",
    "<h1 style=\"font-size: 50px;\" \"> 🏆 Vaccine World Cup</h1>\n",
    "</div>\n",
    "\n",
    "</body>\n",
    "</html>\n",
    "'''.format(\n",
    "    group_location = group_location(\n",
    "    locations=['World','India', 'United States','European Union', 'Africa','South America', 'China'],\n",
    "    colors=['#cccccc','#FF9933', '#2D89FF' ,'#0055FF','#00c918','#f8ff33',\"#DE2910\"],\n",
    "    emoji=['🌍','🇮🇳','🇺🇸','🇪🇺','🇺🇳','🇺🇳','🇨🇳']),\n",
    "\n",
    "    grid_pattern = grid_pattern(),\n",
    "\n",
    "    background = background()\n",
    "    \n",
    "    )\n",
    "\n",
    "\n",
    "f = open('/Users/santa/Projects/vaccine-world-cup/index.html','w')\n",
    "f.write(html_string)\n",
    "f.close()"
   ]
  },
  {
   "cell_type": "code",
   "execution_count": null,
   "metadata": {},
   "outputs": [],
   "source": []
  },
  {
   "cell_type": "code",
   "execution_count": null,
   "metadata": {},
   "outputs": [],
   "source": []
  },
  {
   "cell_type": "code",
   "execution_count": 400,
   "metadata": {},
   "outputs": [
    {
     "data": {
      "text/plain": "array(['Afghanistan', 'Africa', 'Albania', 'Algeria', 'Andorra', 'Angola',\n       'Anguilla', 'Antigua and Barbuda', 'Argentina', 'Asia',\n       'Australia', 'Austria', 'Azerbaijan', 'Bahamas', 'Bahrain',\n       'Bangladesh', 'Barbados', 'Belarus', 'Belgium', 'Belize',\n       'Bermuda', 'Bhutan', 'Bolivia', 'Brazil', 'Brunei', 'Bulgaria',\n       'Cambodia', 'Canada', 'Cape Verde', 'Cayman Islands', 'Chile',\n       'China', 'Colombia', 'Costa Rica', \"Cote d'Ivoire\", 'Croatia',\n       'Cyprus', 'Czechia', 'Denmark', 'Dominica', 'Dominican Republic',\n       'Ecuador', 'Egypt', 'El Salvador', 'Equatorial Guinea', 'Estonia',\n       'Europe', 'European Union', 'Faeroe Islands', 'Falkland Islands',\n       'Finland', 'France', 'Gabon', 'Gambia', 'Georgia', 'Germany',\n       'Ghana', 'Gibraltar', 'Greece', 'Greenland', 'Grenada',\n       'Guatemala', 'Guernsey', 'Guinea', 'Guyana', 'Honduras',\n       'Hong Kong', 'Hungary', 'Iceland', 'India', 'Indonesia', 'Iran',\n       'Iraq', 'Ireland', 'Isle of Man', 'Israel', 'Italy', 'Jamaica',\n       'Japan', 'Jersey', 'Jordan', 'Kazakhstan', 'Kenya', 'Kosovo',\n       'Kuwait', 'Laos', 'Latvia', 'Lebanon', 'Liechtenstein',\n       'Lithuania', 'Luxembourg', 'Macao', 'Malawi', 'Malaysia',\n       'Maldives', 'Mali', 'Malta', 'Mauritania', 'Mauritius', 'Mexico',\n       'Moldova', 'Monaco', 'Mongolia', 'Montenegro', 'Montserrat',\n       'Morocco', 'Mozambique', 'Myanmar', 'Namibia', 'Nepal',\n       'Netherlands', 'New Zealand', 'Nigeria', 'North America',\n       'North Macedonia', 'Norway', 'Oceania', 'Oman', 'Pakistan',\n       'Palestine', 'Panama', 'Paraguay', 'Peru', 'Philippines', 'Poland',\n       'Portugal', 'Qatar', 'Romania', 'Russia', 'Rwanda', 'Saint Helena',\n       'Saint Kitts and Nevis', 'Saint Lucia',\n       'Saint Vincent and the Grenadines', 'San Marino',\n       'Sao Tome and Principe', 'Saudi Arabia', 'Senegal', 'Serbia',\n       'Seychelles', 'Sierra Leone', 'Singapore', 'Slovakia', 'Slovenia',\n       'South Africa', 'South America', 'South Korea', 'Spain',\n       'Sri Lanka', 'Suriname', 'Sweden', 'Switzerland', 'Taiwan',\n       'Thailand', 'Togo', 'Trinidad and Tobago', 'Tunisia', 'Turkey',\n       'Turks and Caicos Islands', 'Uganda', 'Ukraine',\n       'United Arab Emirates', 'United Kingdom', 'United States',\n       'Uruguay', 'Venezuela', 'Vietnam', 'World', 'Zimbabwe'],\n      dtype=object)"
     },
     "execution_count": 400,
     "metadata": {},
     "output_type": "execute_result"
    }
   ],
   "source": [
    "df.location.unique()"
   ]
  }
 ],
 "metadata": {
  "kernelspec": {
   "display_name": "Python 3",
   "language": "python",
   "name": "python3"
  },
  "language_info": {
   "codemirror_mode": {
    "name": "ipython",
    "version": 3
   },
   "file_extension": ".py",
   "mimetype": "text/x-python",
   "name": "python",
   "nbconvert_exporter": "python",
   "pygments_lexer": "ipython3",
   "version": "3.9.2"
  },
  "metadata": {
   "interpreter": {
    "hash": "aee8b7b246df8f9039afb4144a1f6fd8d2ca17a180786b69acc140d282b71a49"
   }
  }
 },
 "nbformat": 4,
 "nbformat_minor": 2
}