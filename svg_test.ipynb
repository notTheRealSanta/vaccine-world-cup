{
 "cells": [
  {
   "cell_type": "markdown",
   "metadata": {},
   "source": [
    "# Imports"
   ]
  },
  {
   "cell_type": "code",
   "execution_count": 574,
   "metadata": {},
   "outputs": [],
   "source": [
    "import pandas as pd\n",
    "import numpy as np\n",
    "import svgwrite"
   ]
  },
  {
   "cell_type": "markdown",
   "metadata": {},
   "source": [
    "# Data"
   ]
  },
  {
   "cell_type": "code",
   "execution_count": 575,
   "metadata": {},
   "outputs": [
    {
     "name": "stdout",
     "output_type": "stream",
     "text": [
      "<class 'pandas.core.frame.DataFrame'>\n",
      "Int64Index: 10563 entries, 1 to 10563\n",
      "Data columns (total 12 columns):\n",
      " #   Column                               Non-Null Count  Dtype  \n",
      "---  ------                               --------------  -----  \n",
      " 0   location                             10563 non-null  object \n",
      " 1   iso_code                             10563 non-null  object \n",
      " 2   date                                 10563 non-null  object \n",
      " 3   total_vaccinations                   6621 non-null   float64\n",
      " 4   people_vaccinated                    6006 non-null   float64\n",
      " 5   people_fully_vaccinated              4290 non-null   float64\n",
      " 6   daily_vaccinations_raw               5631 non-null   float64\n",
      " 7   daily_vaccinations                   10373 non-null  float64\n",
      " 8   total_vaccinations_per_hundred       6621 non-null   float64\n",
      " 9   people_vaccinated_per_hundred        6006 non-null   float64\n",
      " 10  people_fully_vaccinated_per_hundred  4290 non-null   float64\n",
      " 11  daily_vaccinations_per_million       10373 non-null  float64\n",
      "dtypes: float64(9), object(3)\n",
      "memory usage: 1.0+ MB\n"
     ]
    }
   ],
   "source": [
    "vac_df = pd.read_csv('/Users/santa/Projects/vaccine-world-cup/data/data.csv').drop(0)\n",
    "vac_df.info()"
   ]
  },
  {
   "cell_type": "code",
   "execution_count": 576,
   "metadata": {},
   "outputs": [],
   "source": [
    "vac_df.total_vaccinations = pd.to_numeric(vac_df.total_vaccinations)\n",
    "vac_df.date = pd.to_datetime(vac_df.date)"
   ]
  },
  {
   "cell_type": "code",
   "execution_count": 577,
   "metadata": {},
   "outputs": [
    {
     "data": {
      "text/html": "<div>\n<style scoped>\n    .dataframe tbody tr th:only-of-type {\n        vertical-align: middle;\n    }\n\n    .dataframe tbody tr th {\n        vertical-align: top;\n    }\n\n    .dataframe thead th {\n        text-align: right;\n    }\n</style>\n<table border=\"1\" class=\"dataframe\">\n  <thead>\n    <tr style=\"text-align: right;\">\n      <th></th>\n      <th>location</th>\n      <th>iso_code</th>\n      <th>date</th>\n      <th>total_vaccinations</th>\n      <th>people_vaccinated</th>\n      <th>people_fully_vaccinated</th>\n      <th>daily_vaccinations_raw</th>\n      <th>daily_vaccinations</th>\n      <th>total_vaccinations_per_hundred</th>\n      <th>people_vaccinated_per_hundred</th>\n      <th>people_fully_vaccinated_per_hundred</th>\n      <th>daily_vaccinations_per_million</th>\n    </tr>\n  </thead>\n  <tbody>\n    <tr>\n      <th>10414</th>\n      <td>World</td>\n      <td>OWID_WRL</td>\n      <td>2020-12-21</td>\n      <td>2871073.0</td>\n      <td>1350207.0</td>\n      <td>NaN</td>\n      <td>90908.0</td>\n      <td>397800.0</td>\n      <td>0.04</td>\n      <td>0.02</td>\n      <td>NaN</td>\n      <td>51.0</td>\n    </tr>\n  </tbody>\n</table>\n</div>",
      "text/plain": "      location  iso_code       date  total_vaccinations  people_vaccinated  \\\n10414    World  OWID_WRL 2020-12-21           2871073.0          1350207.0   \n\n       people_fully_vaccinated  daily_vaccinations_raw  daily_vaccinations  \\\n10414                      NaN                 90908.0            397800.0   \n\n       total_vaccinations_per_hundred  people_vaccinated_per_hundred  \\\n10414                            0.04                           0.02   \n\n       people_fully_vaccinated_per_hundred  daily_vaccinations_per_million  \n10414                                  NaN                            51.0  "
     },
     "execution_count": 577,
     "metadata": {},
     "output_type": "execute_result"
    }
   ],
   "source": [
    "vac_df[vac_df.location=='World'].sample(1)"
   ]
  },
  {
   "cell_type": "code",
   "execution_count": 578,
   "metadata": {},
   "outputs": [
    {
     "data": {
      "text/html": "<div>\n<style scoped>\n    .dataframe tbody tr th:only-of-type {\n        vertical-align: middle;\n    }\n\n    .dataframe tbody tr th {\n        vertical-align: top;\n    }\n\n    .dataframe thead th {\n        text-align: right;\n    }\n</style>\n<table border=\"1\" class=\"dataframe\">\n  <thead>\n    <tr style=\"text-align: right;\">\n      <th></th>\n      <th>entity</th>\n      <th>iso_code</th>\n      <th>year</th>\n      <th>population</th>\n    </tr>\n  </thead>\n  <tbody>\n    <tr>\n      <th>0</th>\n      <td>Afghanistan</td>\n      <td>AFG</td>\n      <td>2020</td>\n      <td>38928341</td>\n    </tr>\n    <tr>\n      <th>1</th>\n      <td>Albania</td>\n      <td>ALB</td>\n      <td>2020</td>\n      <td>2877800</td>\n    </tr>\n    <tr>\n      <th>2</th>\n      <td>Algeria</td>\n      <td>DZA</td>\n      <td>2020</td>\n      <td>43851043</td>\n    </tr>\n    <tr>\n      <th>3</th>\n      <td>American Samoa</td>\n      <td>ASM</td>\n      <td>2020</td>\n      <td>55197</td>\n    </tr>\n    <tr>\n      <th>4</th>\n      <td>Andorra</td>\n      <td>AND</td>\n      <td>2020</td>\n      <td>77265</td>\n    </tr>\n  </tbody>\n</table>\n</div>",
      "text/plain": "           entity iso_code  year  population\n0     Afghanistan      AFG  2020    38928341\n1         Albania      ALB  2020     2877800\n2         Algeria      DZA  2020    43851043\n3  American Samoa      ASM  2020       55197\n4         Andorra      AND  2020       77265"
     },
     "execution_count": 578,
     "metadata": {},
     "output_type": "execute_result"
    }
   ],
   "source": [
    "pop_df = pd.read_csv('/Users/santa/Projects/vaccine-world-cup/data/pop_data.csv')\n",
    "pop_df.head()"
   ]
  },
  {
   "cell_type": "code",
   "execution_count": 579,
   "metadata": {},
   "outputs": [
    {
     "name": "stdout",
     "output_type": "stream",
     "text": [
      "<class 'pandas.core.frame.DataFrame'>\n",
      "Int64Index: 10045 entries, 0 to 10044\n",
      "Data columns (total 6 columns):\n",
      " #   Column                         Non-Null Count  Dtype         \n",
      "---  ------                         --------------  -----         \n",
      " 0   location                       10045 non-null  object        \n",
      " 1   date                           10045 non-null  datetime64[ns]\n",
      " 2   iso_code                       10045 non-null  object        \n",
      " 3   people_vaccinated              5657 non-null   float64       \n",
      " 4   people_vaccinated_per_hundred  5657 non-null   float64       \n",
      " 5   population                     10045 non-null  int64         \n",
      "dtypes: datetime64[ns](1), float64(2), int64(1), object(2)\n",
      "memory usage: 549.3+ KB\n"
     ]
    }
   ],
   "source": [
    "df = vac_df[['location','date','iso_code','people_vaccinated','people_vaccinated_per_hundred']].merge(pop_df[['iso_code','population']], on=['iso_code'], how='inner')\n",
    "df.info()"
   ]
  },
  {
   "cell_type": "code",
   "execution_count": 580,
   "metadata": {},
   "outputs": [
    {
     "data": {
      "text/html": "<div>\n<style scoped>\n    .dataframe tbody tr th:only-of-type {\n        vertical-align: middle;\n    }\n\n    .dataframe tbody tr th {\n        vertical-align: top;\n    }\n\n    .dataframe thead th {\n        text-align: right;\n    }\n</style>\n<table border=\"1\" class=\"dataframe\">\n  <thead>\n    <tr style=\"text-align: right;\">\n      <th></th>\n      <th>location</th>\n      <th>date</th>\n      <th>iso_code</th>\n      <th>people_vaccinated</th>\n      <th>people_vaccinated_per_hundred</th>\n      <th>population</th>\n    </tr>\n  </thead>\n  <tbody>\n    <tr>\n      <th>9999</th>\n      <td>World</td>\n      <td>2021-04-04</td>\n      <td>OWID_WRL</td>\n      <td>370325173.0</td>\n      <td>4.75</td>\n      <td>7794798729</td>\n    </tr>\n    <tr>\n      <th>6796</th>\n      <td>North America</td>\n      <td>2021-04-04</td>\n      <td>OWID_NAM</td>\n      <td>121766635.0</td>\n      <td>20.57</td>\n      <td>592072204</td>\n    </tr>\n    <tr>\n      <th>586</th>\n      <td>Asia</td>\n      <td>2021-04-04</td>\n      <td>OWID_ASI</td>\n      <td>110909491.0</td>\n      <td>2.39</td>\n      <td>4639847425</td>\n    </tr>\n    <tr>\n      <th>9776</th>\n      <td>United States</td>\n      <td>2021-04-04</td>\n      <td>USA</td>\n      <td>106214924.0</td>\n      <td>31.76</td>\n      <td>331002647</td>\n    </tr>\n    <tr>\n      <th>3114</th>\n      <td>Europe</td>\n      <td>2021-04-04</td>\n      <td>OWID_EUR</td>\n      <td>99036866.0</td>\n      <td>13.23</td>\n      <td>748680069</td>\n    </tr>\n    <tr>\n      <th>4461</th>\n      <td>India</td>\n      <td>2021-04-04</td>\n      <td>IND</td>\n      <td>68678838.0</td>\n      <td>4.98</td>\n      <td>1380004385</td>\n    </tr>\n    <tr>\n      <th>3213</th>\n      <td>European Union</td>\n      <td>2021-04-04</td>\n      <td>OWID_EUN</td>\n      <td>56223490.0</td>\n      <td>12.64</td>\n      <td>444919060</td>\n    </tr>\n    <tr>\n      <th>8756</th>\n      <td>South America</td>\n      <td>2021-04-04</td>\n      <td>OWID_SAM</td>\n      <td>30868312.0</td>\n      <td>7.17</td>\n      <td>430759772</td>\n    </tr>\n    <tr>\n      <th>1482</th>\n      <td>Brazil</td>\n      <td>2021-04-04</td>\n      <td>BRA</td>\n      <td>16472281.0</td>\n      <td>7.75</td>\n      <td>212559409</td>\n    </tr>\n    <tr>\n      <th>9335</th>\n      <td>Turkey</td>\n      <td>2021-04-04</td>\n      <td>TUR</td>\n      <td>9546643.0</td>\n      <td>11.32</td>\n      <td>84339067</td>\n    </tr>\n    <tr>\n      <th>4544</th>\n      <td>Indonesia</td>\n      <td>2021-04-04</td>\n      <td>IDN</td>\n      <td>8634321.0</td>\n      <td>3.16</td>\n      <td>273523621</td>\n    </tr>\n    <tr>\n      <th>6153</th>\n      <td>Mexico</td>\n      <td>2021-04-04</td>\n      <td>MEX</td>\n      <td>7924236.0</td>\n      <td>6.15</td>\n      <td>128932753</td>\n    </tr>\n    <tr>\n      <th>4991</th>\n      <td>Italy</td>\n      <td>2021-04-04</td>\n      <td>ITA</td>\n      <td>7638451.0</td>\n      <td>12.63</td>\n      <td>60461828</td>\n    </tr>\n    <tr>\n      <th>107</th>\n      <td>Africa</td>\n      <td>2021-04-04</td>\n      <td>OWID_AFR</td>\n      <td>7586278.0</td>\n      <td>0.57</td>\n      <td>1340598113</td>\n    </tr>\n    <tr>\n      <th>7798</th>\n      <td>Russia</td>\n      <td>2021-04-04</td>\n      <td>RUS</td>\n      <td>7505764.0</td>\n      <td>5.14</td>\n      <td>145934460</td>\n    </tr>\n    <tr>\n      <th>1943</th>\n      <td>Chile</td>\n      <td>2021-04-04</td>\n      <td>CHL</td>\n      <td>6940748.0</td>\n      <td>36.31</td>\n      <td>19116209</td>\n    </tr>\n    <tr>\n      <th>1737</th>\n      <td>Canada</td>\n      <td>2021-04-04</td>\n      <td>CAN</td>\n      <td>5598582.0</td>\n      <td>14.83</td>\n      <td>37742157</td>\n    </tr>\n    <tr>\n      <th>4892</th>\n      <td>Israel</td>\n      <td>2021-04-04</td>\n      <td>ISR</td>\n      <td>5269051.0</td>\n      <td>60.87</td>\n      <td>8655541</td>\n    </tr>\n    <tr>\n      <th>7442</th>\n      <td>Poland</td>\n      <td>2021-04-04</td>\n      <td>POL</td>\n      <td>4585575.0</td>\n      <td>12.12</td>\n      <td>37846605</td>\n    </tr>\n    <tr>\n      <th>475</th>\n      <td>Argentina</td>\n      <td>2021-04-04</td>\n      <td>ARG</td>\n      <td>3550166.0</td>\n      <td>7.86</td>\n      <td>45195777</td>\n    </tr>\n    <tr>\n      <th>4286</th>\n      <td>Hungary</td>\n      <td>2021-04-04</td>\n      <td>HUN</td>\n      <td>2362839.0</td>\n      <td>24.46</td>\n      <td>9660350</td>\n    </tr>\n    <tr>\n      <th>1218</th>\n      <td>Belgium</td>\n      <td>2021-04-04</td>\n      <td>BEL</td>\n      <td>1502919.0</td>\n      <td>12.97</td>\n      <td>11589616</td>\n    </tr>\n    <tr>\n      <th>8236</th>\n      <td>Serbia</td>\n      <td>2021-04-04</td>\n      <td>SRB</td>\n      <td>1476929.0</td>\n      <td>21.70</td>\n      <td>6804596</td>\n    </tr>\n    <tr>\n      <th>734</th>\n      <td>Austria</td>\n      <td>2021-04-04</td>\n      <td>AUT</td>\n      <td>1270558.0</td>\n      <td>14.11</td>\n      <td>9006400</td>\n    </tr>\n    <tr>\n      <th>2512</th>\n      <td>Czechia</td>\n      <td>2021-04-04</td>\n      <td>CZE</td>\n      <td>1233053.0</td>\n      <td>11.51</td>\n      <td>10708982</td>\n    </tr>\n    <tr>\n      <th>3417</th>\n      <td>Finland</td>\n      <td>2021-04-04</td>\n      <td>FIN</td>\n      <td>973876.0</td>\n      <td>17.58</td>\n      <td>5540718</td>\n    </tr>\n    <tr>\n      <th>8795</th>\n      <td>South Korea</td>\n      <td>2021-04-04</td>\n      <td>KOR</td>\n      <td>962730.0</td>\n      <td>1.88</td>\n      <td>51269183</td>\n    </tr>\n    <tr>\n      <th>8952</th>\n      <td>Sri Lanka</td>\n      <td>2021-04-04</td>\n      <td>LKA</td>\n      <td>924479.0</td>\n      <td>4.32</td>\n      <td>21413250</td>\n    </tr>\n    <tr>\n      <th>8510</th>\n      <td>Slovakia</td>\n      <td>2021-04-04</td>\n      <td>SVK</td>\n      <td>755617.0</td>\n      <td>13.84</td>\n      <td>5459643</td>\n    </tr>\n    <tr>\n      <th>9813</th>\n      <td>Uruguay</td>\n      <td>2021-04-04</td>\n      <td>URY</td>\n      <td>717186.0</td>\n      <td>20.65</td>\n      <td>3473727</td>\n    </tr>\n    <tr>\n      <th>916</th>\n      <td>Bahrain</td>\n      <td>2021-04-04</td>\n      <td>BHR</td>\n      <td>530415.0</td>\n      <td>31.17</td>\n      <td>1701583</td>\n    </tr>\n    <tr>\n      <th>4188</th>\n      <td>Hong Kong</td>\n      <td>2021-04-04</td>\n      <td>HKG</td>\n      <td>478900.0</td>\n      <td>6.39</td>\n      <td>7496988</td>\n    </tr>\n    <tr>\n      <th>1337</th>\n      <td>Bhutan</td>\n      <td>2021-04-04</td>\n      <td>BTN</td>\n      <td>466811.0</td>\n      <td>60.50</td>\n      <td>771612</td>\n    </tr>\n    <tr>\n      <th>1581</th>\n      <td>Bulgaria</td>\n      <td>2021-04-04</td>\n      <td>BGR</td>\n      <td>402693.0</td>\n      <td>5.80</td>\n      <td>6948445</td>\n    </tr>\n    <tr>\n      <th>5672</th>\n      <td>Lithuania</td>\n      <td>2021-04-04</td>\n      <td>LTU</td>\n      <td>388518.0</td>\n      <td>14.27</td>\n      <td>2722291</td>\n    </tr>\n    <tr>\n      <th>8149</th>\n      <td>Senegal</td>\n      <td>2021-04-04</td>\n      <td>SEN</td>\n      <td>302857.0</td>\n      <td>1.81</td>\n      <td>16743930</td>\n    </tr>\n    <tr>\n      <th>9468</th>\n      <td>Ukraine</td>\n      <td>2021-04-04</td>\n      <td>UKR</td>\n      <td>291824.0</td>\n      <td>0.67</td>\n      <td>43733759</td>\n    </tr>\n    <tr>\n      <th>8609</th>\n      <td>Slovenia</td>\n      <td>2021-04-04</td>\n      <td>SVN</td>\n      <td>284027.0</td>\n      <td>13.66</td>\n      <td>2078932</td>\n    </tr>\n    <tr>\n      <th>3001</th>\n      <td>Estonia</td>\n      <td>2021-04-04</td>\n      <td>EST</td>\n      <td>223153.0</td>\n      <td>16.82</td>\n      <td>1326539</td>\n    </tr>\n    <tr>\n      <th>6988</th>\n      <td>Oceania</td>\n      <td>2021-04-04</td>\n      <td>OWID_OCE</td>\n      <td>211477.0</td>\n      <td>0.50</td>\n      <td>42677809</td>\n    </tr>\n    <tr>\n      <th>5515</th>\n      <td>Lebanon</td>\n      <td>2021-04-04</td>\n      <td>LBN</td>\n      <td>139855.0</td>\n      <td>2.05</td>\n      <td>6825442</td>\n    </tr>\n    <tr>\n      <th>4619</th>\n      <td>Iraq</td>\n      <td>2021-04-04</td>\n      <td>IRQ</td>\n      <td>93021.0</td>\n      <td>0.23</td>\n      <td>40222503</td>\n    </tr>\n    <tr>\n      <th>7146</th>\n      <td>Palestine</td>\n      <td>2021-04-04</td>\n      <td>PSE</td>\n      <td>91626.0</td>\n      <td>1.80</td>\n      <td>5101416</td>\n    </tr>\n    <tr>\n      <th>5821</th>\n      <td>Macao</td>\n      <td>2021-04-04</td>\n      <td>MAC</td>\n      <td>55951.0</td>\n      <td>8.62</td>\n      <td>649342</td>\n    </tr>\n    <tr>\n      <th>6184</th>\n      <td>Moldova</td>\n      <td>2021-04-04</td>\n      <td>MDA</td>\n      <td>47524.0</td>\n      <td>1.18</td>\n      <td>4033963</td>\n    </tr>\n    <tr>\n      <th>4785</th>\n      <td>Isle of Man</td>\n      <td>2021-04-04</td>\n      <td>IMN</td>\n      <td>39132.0</td>\n      <td>46.02</td>\n      <td>85032</td>\n    </tr>\n    <tr>\n      <th>6350</th>\n      <td>Montenegro</td>\n      <td>2021-04-04</td>\n      <td>MNE</td>\n      <td>25516.0</td>\n      <td>4.06</td>\n      <td>628062</td>\n    </tr>\n    <tr>\n      <th>5278</th>\n      <td>Kosovo</td>\n      <td>2021-04-04</td>\n      <td>OWID_KOS</td>\n      <td>2500.0</td>\n      <td>0.13</td>\n      <td>1932774</td>\n    </tr>\n    <tr>\n      <th>635</th>\n      <td>Australia</td>\n      <td>2021-04-04</td>\n      <td>AUS</td>\n      <td>NaN</td>\n      <td>NaN</td>\n      <td>25499881</td>\n    </tr>\n    <tr>\n      <th>2054</th>\n      <td>China</td>\n      <td>2021-04-04</td>\n      <td>CHN</td>\n      <td>NaN</td>\n      <td>NaN</td>\n      <td>1439323774</td>\n    </tr>\n    <tr>\n      <th>2841</th>\n      <td>Egypt</td>\n      <td>2021-04-04</td>\n      <td>EGY</td>\n      <td>NaN</td>\n      <td>NaN</td>\n      <td>102334403</td>\n    </tr>\n    <tr>\n      <th>6306</th>\n      <td>Mongolia</td>\n      <td>2021-04-04</td>\n      <td>MNG</td>\n      <td>NaN</td>\n      <td>NaN</td>\n      <td>3278292</td>\n    </tr>\n    <tr>\n      <th>7589</th>\n      <td>Qatar</td>\n      <td>2021-04-04</td>\n      <td>QAT</td>\n      <td>NaN</td>\n      <td>NaN</td>\n      <td>2881060</td>\n    </tr>\n    <tr>\n      <th>8107</th>\n      <td>Saudi Arabia</td>\n      <td>2021-04-04</td>\n      <td>SAU</td>\n      <td>NaN</td>\n      <td>NaN</td>\n      <td>34813867</td>\n    </tr>\n    <tr>\n      <th>9558</th>\n      <td>United Arab Emirates</td>\n      <td>2021-04-04</td>\n      <td>ARE</td>\n      <td>NaN</td>\n      <td>NaN</td>\n      <td>9890400</td>\n    </tr>\n  </tbody>\n</table>\n</div>",
      "text/plain": "                  location       date  iso_code  people_vaccinated  \\\n9999                 World 2021-04-04  OWID_WRL        370325173.0   \n6796         North America 2021-04-04  OWID_NAM        121766635.0   \n586                   Asia 2021-04-04  OWID_ASI        110909491.0   \n9776         United States 2021-04-04       USA        106214924.0   \n3114                Europe 2021-04-04  OWID_EUR         99036866.0   \n4461                 India 2021-04-04       IND         68678838.0   \n3213        European Union 2021-04-04  OWID_EUN         56223490.0   \n8756         South America 2021-04-04  OWID_SAM         30868312.0   \n1482                Brazil 2021-04-04       BRA         16472281.0   \n9335                Turkey 2021-04-04       TUR          9546643.0   \n4544             Indonesia 2021-04-04       IDN          8634321.0   \n6153                Mexico 2021-04-04       MEX          7924236.0   \n4991                 Italy 2021-04-04       ITA          7638451.0   \n107                 Africa 2021-04-04  OWID_AFR          7586278.0   \n7798                Russia 2021-04-04       RUS          7505764.0   \n1943                 Chile 2021-04-04       CHL          6940748.0   \n1737                Canada 2021-04-04       CAN          5598582.0   \n4892                Israel 2021-04-04       ISR          5269051.0   \n7442                Poland 2021-04-04       POL          4585575.0   \n475              Argentina 2021-04-04       ARG          3550166.0   \n4286               Hungary 2021-04-04       HUN          2362839.0   \n1218               Belgium 2021-04-04       BEL          1502919.0   \n8236                Serbia 2021-04-04       SRB          1476929.0   \n734                Austria 2021-04-04       AUT          1270558.0   \n2512               Czechia 2021-04-04       CZE          1233053.0   \n3417               Finland 2021-04-04       FIN           973876.0   \n8795           South Korea 2021-04-04       KOR           962730.0   \n8952             Sri Lanka 2021-04-04       LKA           924479.0   \n8510              Slovakia 2021-04-04       SVK           755617.0   \n9813               Uruguay 2021-04-04       URY           717186.0   \n916                Bahrain 2021-04-04       BHR           530415.0   \n4188             Hong Kong 2021-04-04       HKG           478900.0   \n1337                Bhutan 2021-04-04       BTN           466811.0   \n1581              Bulgaria 2021-04-04       BGR           402693.0   \n5672             Lithuania 2021-04-04       LTU           388518.0   \n8149               Senegal 2021-04-04       SEN           302857.0   \n9468               Ukraine 2021-04-04       UKR           291824.0   \n8609              Slovenia 2021-04-04       SVN           284027.0   \n3001               Estonia 2021-04-04       EST           223153.0   \n6988               Oceania 2021-04-04  OWID_OCE           211477.0   \n5515               Lebanon 2021-04-04       LBN           139855.0   \n4619                  Iraq 2021-04-04       IRQ            93021.0   \n7146             Palestine 2021-04-04       PSE            91626.0   \n5821                 Macao 2021-04-04       MAC            55951.0   \n6184               Moldova 2021-04-04       MDA            47524.0   \n4785           Isle of Man 2021-04-04       IMN            39132.0   \n6350            Montenegro 2021-04-04       MNE            25516.0   \n5278                Kosovo 2021-04-04  OWID_KOS             2500.0   \n635              Australia 2021-04-04       AUS                NaN   \n2054                 China 2021-04-04       CHN                NaN   \n2841                 Egypt 2021-04-04       EGY                NaN   \n6306              Mongolia 2021-04-04       MNG                NaN   \n7589                 Qatar 2021-04-04       QAT                NaN   \n8107          Saudi Arabia 2021-04-04       SAU                NaN   \n9558  United Arab Emirates 2021-04-04       ARE                NaN   \n\n      people_vaccinated_per_hundred  population  \n9999                           4.75  7794798729  \n6796                          20.57   592072204  \n586                            2.39  4639847425  \n9776                          31.76   331002647  \n3114                          13.23   748680069  \n4461                           4.98  1380004385  \n3213                          12.64   444919060  \n8756                           7.17   430759772  \n1482                           7.75   212559409  \n9335                          11.32    84339067  \n4544                           3.16   273523621  \n6153                           6.15   128932753  \n4991                          12.63    60461828  \n107                            0.57  1340598113  \n7798                           5.14   145934460  \n1943                          36.31    19116209  \n1737                          14.83    37742157  \n4892                          60.87     8655541  \n7442                          12.12    37846605  \n475                            7.86    45195777  \n4286                          24.46     9660350  \n1218                          12.97    11589616  \n8236                          21.70     6804596  \n734                           14.11     9006400  \n2512                          11.51    10708982  \n3417                          17.58     5540718  \n8795                           1.88    51269183  \n8952                           4.32    21413250  \n8510                          13.84     5459643  \n9813                          20.65     3473727  \n916                           31.17     1701583  \n4188                           6.39     7496988  \n1337                          60.50      771612  \n1581                           5.80     6948445  \n5672                          14.27     2722291  \n8149                           1.81    16743930  \n9468                           0.67    43733759  \n8609                          13.66     2078932  \n3001                          16.82     1326539  \n6988                           0.50    42677809  \n5515                           2.05     6825442  \n4619                           0.23    40222503  \n7146                           1.80     5101416  \n5821                           8.62      649342  \n6184                           1.18     4033963  \n4785                          46.02       85032  \n6350                           4.06      628062  \n5278                           0.13     1932774  \n635                             NaN    25499881  \n2054                            NaN  1439323774  \n2841                            NaN   102334403  \n6306                            NaN     3278292  \n7589                            NaN     2881060  \n8107                            NaN    34813867  \n9558                            NaN     9890400  "
     },
     "execution_count": 580,
     "metadata": {},
     "output_type": "execute_result"
    }
   ],
   "source": [
    "df[df.date==df.date.max()].sort_values('people_vaccinated', ascending=False)"
   ]
  },
  {
   "cell_type": "markdown",
   "metadata": {},
   "source": [
    "# SVG"
   ]
  },
  {
   "cell_type": "code",
   "execution_count": 529,
   "metadata": {},
   "outputs": [],
   "source": [
    "HEIGHT = 800\n",
    "WIDTH = 200"
   ]
  },
  {
   "cell_type": "code",
   "execution_count": 556,
   "metadata": {},
   "outputs": [
    {
     "data": {
      "text/plain": "4.98"
     },
     "execution_count": 556,
     "metadata": {},
     "output_type": "execute_result"
    }
   ],
   "source": [
    "df[df.location=='India'].people_vaccinated_per_hundred.max()"
   ]
  },
  {
   "cell_type": "code",
   "execution_count": 573,
   "metadata": {},
   "outputs": [
    {
     "name": "stdout",
     "output_type": "stream",
     "text": [
      "L 0.0 799.9913535 L  ::: L 134.4 762.9674827 \n",
      "World ['China']\n",
      "L 0.0 800.0 L 1.2 80 ::: L 134.4 793.1321162 \n",
      "India ['China']\n",
      "L 0.0 800.0 L 1.2 80 ::: L 134.4 789.3785076 \n",
      "United States ['China']\n",
      "L 0.0 800.0 L 1.2 80 :::  L 134.4 794.377651 \n",
      "European Union ['China']\n",
      "L 0.0 800.0 L 1.2 80 ::: L 134.4 799.2413722 \n",
      "Africa ['China']\n",
      "L 0.0 800.0 L 1.2 80 ::: L 134.4 796.9131688 \n",
      "South America ['China']\n",
      "L 0.0 800.0 L 1.2 80 ::: 800.0 L 134.4 800.0 \n",
      "China ['China']\n"
     ]
    }
   ],
   "source": [
    "dont_draw_list = ['China']\n",
    "draw_text_finish_line_list = [\"World\"]\n",
    "\n",
    "def get_graph_for_location( location, color='black', hor_scale=1.2, ver_scale=1, emoji=\"🏳\"): \n",
    "    fill = color\n",
    "\n",
    "    format_df = df[df.location=='World'].sort_values('date').reset_index()['date'].to_frame()\n",
    "    location_df = df[df.location==location].set_index('date').people_vaccinated.fillna(method='bfill').to_frame().reset_index()\n",
    "    m_df = format_df.merge(location_df, on=['date'], how='left').fillna(0)\n",
    "\n",
    "    vacc_list = [ HEIGHT-(i * ver_scale) for i in ((m_df.people_vaccinated/10000000).values.tolist())]\n",
    "    ran_list = [ (i * hor_scale) for i in  list(range(0, len(vacc_list)))]\n",
    "    path_string = \"\"\n",
    "    for i,j in zip(ran_list, vacc_list) :\n",
    "        path_string += \"L \"\n",
    "        path_string += (str(i)+\" \")\n",
    "        path_string += (str(j)+\" \")\n",
    "    print(path_string[:20],\":::\", path_string[-20:])\n",
    "    d_string_area = 'M 0 '+str(HEIGHT)+ path_string + 'L '+str(ran_list[-1])+' '+str(HEIGHT)+' z'\n",
    "    d_string_line = 'M 0 '+str(HEIGHT)+ path_string + ' '\n",
    "    \n",
    "    area_svg = \"<path fill=\\\"{1}\\\" stroke-width=0.5 opacity=0.1 d=\\\"{0}\\\"/>\".format(d_string_area, color)\n",
    "    line_svg = \"<path fill=\\\"none\\\" stroke-width=0.5 stroke=\\\"{1}\\\" d=\\\"{0}\\\"/>\".format(d_string_line, color)\n",
    "\n",
    "    text_svg = '''\n",
    "    <text \n",
    "        x=\"{0}\" y=\"{1}\" \n",
    "        font-family=\"Verdana\" \n",
    "        text-anchor=\"start\" \n",
    "        font-size=\"4\" \n",
    "        transform=\"scale (0.5,1)\" \n",
    "        fill=\"{3}\">\n",
    "        {4}&nbsp;{2}&nbsp;\n",
    "            <tspan\n",
    "                font-family=\"Verdana\" \n",
    "                text-anchor=\"start\" \n",
    "                font-size=\"3\" \n",
    "                transform=\"scale (0.5,1)\" \n",
    "                fill=\"#eee\">\n",
    "                {5:.1f}%\n",
    "            </tspan>\n",
    "    </text>'''.format(\n",
    "        ran_list[-1]*2 + 2,\n",
    "        vacc_list[-1],\n",
    "        location,\n",
    "        color,\n",
    "        emoji,\n",
    "        df[df.location==location].people_vaccinated_per_hundred.max()\n",
    "    )\n",
    "\n",
    "    finish_line_loc = HEIGHT - df[df.location==location].population.values[0]/10000000\n",
    "    finish_line_svg = '''\n",
    "    <path \n",
    "        fill=\"none\" stroke=\"{color}\" \n",
    "        stroke-width=\"0.5\" \n",
    "        stroke-dasharray=\"1,0.5\" \n",
    "        d=\"M0 {value} l200 0\">\n",
    "    </path>'''.format( \n",
    "        value =  finish_line_loc,\n",
    "        color = color)\n",
    "\n",
    "    if location in draw_text_finish_line_list:\n",
    "        finish_line_svg +='''\n",
    "        <text x=\"375\" y=\"{value}\" \n",
    "        font-family=\"Verdana\" \n",
    "        text-anchor=\"end\" font-size=\"5\" transform=\"scale (0.5,1)\" fill=\"white\">World Finish Line</text>'''.format(value=finish_line_loc-1)\n",
    "\n",
    "    print(location, dont_draw_list)\n",
    "    if location in dont_draw_list:\n",
    "        ret_string = \"\\t {}\".format(finish_line_svg)\n",
    "    else :\n",
    "        ret_string =  \"\\t {0}\\n\\t {1}\\n\\t {2}\\n\\t {3}\".format(area_svg, line_svg,text_svg, finish_line_svg)\n",
    "\n",
    "    return ret_string\n",
    "\n",
    "def group_location (locations = [], colors = []):\n",
    "    ret_string = \"\"\n",
    "\n",
    "    for l, c in zip(locations, colors):\n",
    "        ret_string += (get_graph_for_location(location=l, color=c, emoji=\"\"))\n",
    "\n",
    "    return ret_string\n",
    "\n",
    "def grid_pattern():\n",
    "\n",
    "    ret_string = '''\n",
    "        <defs>\n",
    "            <pattern \n",
    "                id=\"pattern1\" \n",
    "                patternUnits=\"userSpaceOnUse\" \n",
    "                x=\"0\" y=\"0\" width=\"10\" height=\"10\" \n",
    "                viewBox=\"0 0 4 4\">\n",
    "                <path \n",
    "                    d=\"M 0 0 L 0 4 L 4 4 L 4 0 Z\" \n",
    "                    fill=\"none\" \n",
    "                    stroke-width=\"0.05\" \n",
    "                    stroke=\"#575757\"></path>\n",
    "            </pattern>\n",
    "  \n",
    "        </defs>\n",
    "        <g>\n",
    "            <rect x=\"0\" y=\"0\" \n",
    "                  width=\"100%\" \n",
    "                  height=\"100%\" \n",
    "                  fill=\"url(#pattern1)\" />\n",
    "        </g>\n",
    "    '''\n",
    "\n",
    "    grid_tick_y = \"\"\n",
    "    for i in range(5, 80,5):\n",
    "        grid_tick_y += ''' <text x=\"5\" y=\"{y}\" >{pop:.1f}B</text>'''.format(pop=i/10, y= 800-(i*10))\n",
    "    grid_tick_y = '''\n",
    "    <g fill=\"#aaa\" font-family=\"Verdana\" text-anchor=\"start\" font-size=\"3\" transform=\"scale (0.5,1)\" >\n",
    "        {}\n",
    "    </g>\n",
    "    '''.format(grid_tick_y)\n",
    "\n",
    "    return ret_string + grid_tick_y\n",
    "\n",
    "def background():\n",
    "    return '''\n",
    "        <defs xmlns=\"http://www.w3.org/2000/svg\">\n",
    "\t\t\t\t\t<linearGradient xmlns=\"http://www.w3.org/2000/svg\" id=\"gradient-fill\" x1=\"0\" y1=\"0\" x2=\"800\" y2=\"0\" gradientUnits=\"userSpaceOnUse\">\t\t\t\t\n",
    "\t\t\t\t\t\t\t<stop offset=\"0\" stop-color=\"#060d20\"/>\n",
    "                            <stop offset=\"0.14285714285714285\" stop-color=\"#091228\"/>\n",
    "                            <stop offset=\"0.2857142857142857\" stop-color=\"#091630\"/>\n",
    "                            <stop offset=\"0.42857142857142855\" stop-color=\"#091a38\"/>\n",
    "                            <stop offset=\"0.5714285714285714\" stop-color=\"#0a1d40\"/>\n",
    "                            <stop offset=\"0.7142857142857142\" stop-color=\"#0b2149\"/>\n",
    "                            <stop offset=\"0.8571428571428571\" stop-color=\"#0c2451\"/>\n",
    "                            <stop offset=\"1\" stop-color=\"#0e285a\"/>\n",
    "\t\t\t\t\t</linearGradient>\n",
    "\t\t\t\t</defs>\n",
    "\n",
    "    <rect fill=\"url(#gradient-fill)\" width=\"200\" height=\"800\"/>\n",
    "    '''\n",
    "\n",
    "html_string = '''\n",
    "<html style=\"width:100%;height:100%;\">\n",
    "<body style=\"width:100%;height:100%;margin:0;\">\n",
    "<div style=\"height: 400%; width: 100%; border:2px solid #000;  position: absolute;\" >\n",
    "  <svg height=\"100%\" width=\"100%\" viewBox=\"0 0 200 800\" position=\"absolute\" preserveAspectRatio=\"none\" >\n",
    "    \n",
    "    {background}\n",
    "    {grid_pattern}\n",
    "    {group_location}\n",
    " </svg>\n",
    "</div>\n",
    "\n",
    "<div style=\"height: 70%;width: 35%;top:15%;left:3%;padding-top:2%;background-color: #222;position:relative;\n",
    "  text-align: center;opacity: 0.5;  border: 5px solid black;\">\n",
    "<h1 style=\"color:white;text-shadow: 3px 3px black;font-size: 50px;  font-family: \"Lucida Console\", Monaco, monospace;\">  Vaccine World Cup</h1>\n",
    "<hr>\n",
    "</div>\n",
    "\n",
    "</body>\n",
    "</html>\n",
    "'''.format(\n",
    "\n",
    "    group_location = group_location(\n",
    "    locations=['World','India', 'United States','European Union', 'Africa','South America', 'China'],\n",
    "    colors=['#cccccc','#FF9933', '#2D89FF' ,'#0055FF','#00c918','#f8ff33',\"#DE2910\"],\n",
    "    ),\n",
    "\n",
    "    grid_pattern = grid_pattern(),\n",
    "\n",
    "    background = background()\n",
    "    \n",
    "    )\n",
    "\n",
    "\n",
    "f = open('/Users/santa/Projects/vaccine-world-cup/index.html','w')\n",
    "f.write(html_string)\n",
    "f.close()"
   ]
  },
  {
   "cell_type": "code",
   "execution_count": 558,
   "metadata": {},
   "outputs": [
    {
     "data": {
      "text/plain": "370325173.0"
     },
     "execution_count": 558,
     "metadata": {},
     "output_type": "execute_result"
    }
   ],
   "source": [
    "df[df.location==\"World\"].people_vaccinated.max()"
   ]
  },
  {
   "cell_type": "code",
   "execution_count": 564,
   "metadata": {},
   "outputs": [],
   "source": []
  },
  {
   "cell_type": "code",
   "execution_count": 565,
   "metadata": {},
   "outputs": [
    {
     "data": {
      "text/plain": "' <text x=\"15\" y=\"750\" >500M</text> <text x=\"15\" y=\"700\" >1000M</text> <text x=\"15\" y=\"650\" >1500M</text> <text x=\"15\" y=\"600\" >2000M</text> <text x=\"15\" y=\"550\" >2500M</text> <text x=\"15\" y=\"500\" >3000M</text> <text x=\"15\" y=\"450\" >3500M</text> <text x=\"15\" y=\"400\" >4000M</text> <text x=\"15\" y=\"350\" >4500M</text> <text x=\"15\" y=\"300\" >5000M</text> <text x=\"15\" y=\"250\" >5500M</text> <text x=\"15\" y=\"200\" >6000M</text> <text x=\"15\" y=\"150\" >6500M</text> <text x=\"15\" y=\"100\" >7000M</text> <text x=\"15\" y=\"50\" >7500M</text>'"
     },
     "execution_count": 565,
     "metadata": {},
     "output_type": "execute_result"
    }
   ],
   "source": [
    "grid_tick_y"
   ]
  },
  {
   "cell_type": "code",
   "execution_count": null,
   "metadata": {},
   "outputs": [],
   "source": []
  }
 ],
 "metadata": {
  "kernelspec": {
   "display_name": "Python 3",
   "language": "python",
   "name": "python3"
  },
  "language_info": {
   "codemirror_mode": {
    "name": "ipython",
    "version": 3
   },
   "file_extension": ".py",
   "mimetype": "text/x-python",
   "name": "python",
   "nbconvert_exporter": "python",
   "pygments_lexer": "ipython3",
   "version": "3.9.2"
  },
  "metadata": {
   "interpreter": {
    "hash": "aee8b7b246df8f9039afb4144a1f6fd8d2ca17a180786b69acc140d282b71a49"
   }
  }
 },
 "nbformat": 4,
 "nbformat_minor": 2
}