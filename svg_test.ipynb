{
 "cells": [
  {
   "cell_type": "code",
   "execution_count": null,
   "metadata": {},
   "outputs": [],
   "source": []
  },
  {
   "cell_type": "markdown",
   "metadata": {},
   "source": [
    "# Imports"
   ]
  },
  {
   "cell_type": "code",
   "execution_count": 280,
   "metadata": {},
   "outputs": [],
   "source": [
    "import pandas as pd\n",
    "import numpy as np\n",
    "import svgwrite"
   ]
  },
  {
   "cell_type": "markdown",
   "metadata": {},
   "source": [
    "# Data"
   ]
  },
  {
   "cell_type": "code",
   "execution_count": 524,
   "metadata": {},
   "outputs": [
    {
     "name": "stdout",
     "output_type": "stream",
     "text": [
      "<class 'pandas.core.frame.DataFrame'>\n",
      "Int64Index: 10563 entries, 1 to 10563\n",
      "Data columns (total 12 columns):\n",
      " #   Column                               Non-Null Count  Dtype  \n",
      "---  ------                               --------------  -----  \n",
      " 0   location                             10563 non-null  object \n",
      " 1   iso_code                             10563 non-null  object \n",
      " 2   date                                 10563 non-null  object \n",
      " 3   total_vaccinations                   6621 non-null   float64\n",
      " 4   people_vaccinated                    6006 non-null   float64\n",
      " 5   people_fully_vaccinated              4290 non-null   float64\n",
      " 6   daily_vaccinations_raw               5631 non-null   float64\n",
      " 7   daily_vaccinations                   10373 non-null  float64\n",
      " 8   total_vaccinations_per_hundred       6621 non-null   float64\n",
      " 9   people_vaccinated_per_hundred        6006 non-null   float64\n",
      " 10  people_fully_vaccinated_per_hundred  4290 non-null   float64\n",
      " 11  daily_vaccinations_per_million       10373 non-null  float64\n",
      "dtypes: float64(9), object(3)\n",
      "memory usage: 1.0+ MB\n"
     ]
    }
   ],
   "source": [
    "vac_df = pd.read_csv('/Users/santa/Projects/vaccine-world-cup/data/data.csv').drop(0)\n",
    "vac_df.info()"
   ]
  },
  {
   "cell_type": "code",
   "execution_count": 525,
   "metadata": {},
   "outputs": [],
   "source": [
    "vac_df.total_vaccinations = pd.to_numeric(vac_df.total_vaccinations)\n",
    "vac_df.date = pd.to_datetime(vac_df.date)"
   ]
  },
  {
   "cell_type": "code",
   "execution_count": 526,
   "metadata": {},
   "outputs": [
    {
     "data": {
      "text/html": "<div>\n<style scoped>\n    .dataframe tbody tr th:only-of-type {\n        vertical-align: middle;\n    }\n\n    .dataframe tbody tr th {\n        vertical-align: top;\n    }\n\n    .dataframe thead th {\n        text-align: right;\n    }\n</style>\n<table border=\"1\" class=\"dataframe\">\n  <thead>\n    <tr style=\"text-align: right;\">\n      <th></th>\n      <th>location</th>\n      <th>iso_code</th>\n      <th>date</th>\n      <th>total_vaccinations</th>\n      <th>people_vaccinated</th>\n      <th>people_fully_vaccinated</th>\n      <th>daily_vaccinations_raw</th>\n      <th>daily_vaccinations</th>\n      <th>total_vaccinations_per_hundred</th>\n      <th>people_vaccinated_per_hundred</th>\n      <th>people_fully_vaccinated_per_hundred</th>\n      <th>daily_vaccinations_per_million</th>\n    </tr>\n  </thead>\n  <tbody>\n    <tr>\n      <th>10447</th>\n      <td>World</td>\n      <td>OWID_WRL</td>\n      <td>2021-01-23</td>\n      <td>63993117.0</td>\n      <td>40346216.0</td>\n      <td>5446950.0</td>\n      <td>2991494.0</td>\n      <td>3485862.0</td>\n      <td>0.82</td>\n      <td>0.52</td>\n      <td>0.07</td>\n      <td>447.0</td>\n    </tr>\n  </tbody>\n</table>\n</div>",
      "text/plain": "      location  iso_code       date  total_vaccinations  people_vaccinated  \\\n10447    World  OWID_WRL 2021-01-23          63993117.0         40346216.0   \n\n       people_fully_vaccinated  daily_vaccinations_raw  daily_vaccinations  \\\n10447                5446950.0               2991494.0           3485862.0   \n\n       total_vaccinations_per_hundred  people_vaccinated_per_hundred  \\\n10447                            0.82                           0.52   \n\n       people_fully_vaccinated_per_hundred  daily_vaccinations_per_million  \n10447                                 0.07                           447.0  "
     },
     "execution_count": 526,
     "metadata": {},
     "output_type": "execute_result"
    }
   ],
   "source": [
    "vac_df[vac_df.location=='World'].sample(1)"
   ]
  },
  {
   "cell_type": "code",
   "execution_count": 527,
   "metadata": {},
   "outputs": [
    {
     "data": {
      "text/html": "<div>\n<style scoped>\n    .dataframe tbody tr th:only-of-type {\n        vertical-align: middle;\n    }\n\n    .dataframe tbody tr th {\n        vertical-align: top;\n    }\n\n    .dataframe thead th {\n        text-align: right;\n    }\n</style>\n<table border=\"1\" class=\"dataframe\">\n  <thead>\n    <tr style=\"text-align: right;\">\n      <th></th>\n      <th>entity</th>\n      <th>iso_code</th>\n      <th>year</th>\n      <th>population</th>\n    </tr>\n  </thead>\n  <tbody>\n    <tr>\n      <th>0</th>\n      <td>Afghanistan</td>\n      <td>AFG</td>\n      <td>2020</td>\n      <td>38928341</td>\n    </tr>\n    <tr>\n      <th>1</th>\n      <td>Albania</td>\n      <td>ALB</td>\n      <td>2020</td>\n      <td>2877800</td>\n    </tr>\n    <tr>\n      <th>2</th>\n      <td>Algeria</td>\n      <td>DZA</td>\n      <td>2020</td>\n      <td>43851043</td>\n    </tr>\n    <tr>\n      <th>3</th>\n      <td>American Samoa</td>\n      <td>ASM</td>\n      <td>2020</td>\n      <td>55197</td>\n    </tr>\n    <tr>\n      <th>4</th>\n      <td>Andorra</td>\n      <td>AND</td>\n      <td>2020</td>\n      <td>77265</td>\n    </tr>\n  </tbody>\n</table>\n</div>",
      "text/plain": "           entity iso_code  year  population\n0     Afghanistan      AFG  2020    38928341\n1         Albania      ALB  2020     2877800\n2         Algeria      DZA  2020    43851043\n3  American Samoa      ASM  2020       55197\n4         Andorra      AND  2020       77265"
     },
     "execution_count": 527,
     "metadata": {},
     "output_type": "execute_result"
    }
   ],
   "source": [
    "pop_df = pd.read_csv('/Users/santa/Projects/vaccine-world-cup/data/pop_data.csv')\n",
    "pop_df.head()"
   ]
  },
  {
   "cell_type": "code",
   "execution_count": 528,
   "metadata": {},
   "outputs": [
    {
     "name": "stdout",
     "output_type": "stream",
     "text": [
      "<class 'pandas.core.frame.DataFrame'>\n",
      "Int64Index: 10045 entries, 0 to 10044\n",
      "Data columns (total 6 columns):\n",
      " #   Column                         Non-Null Count  Dtype         \n",
      "---  ------                         --------------  -----         \n",
      " 0   location                       10045 non-null  object        \n",
      " 1   date                           10045 non-null  datetime64[ns]\n",
      " 2   iso_code                       10045 non-null  object        \n",
      " 3   people_vaccinated              5657 non-null   float64       \n",
      " 4   people_vaccinated_per_hundred  5657 non-null   float64       \n",
      " 5   population                     10045 non-null  int64         \n",
      "dtypes: datetime64[ns](1), float64(2), int64(1), object(2)\n",
      "memory usage: 549.3+ KB\n"
     ]
    }
   ],
   "source": [
    "df = vac_df[['location','date','iso_code','people_vaccinated','people_vaccinated_per_hundred']].merge(pop_df[['iso_code','population']], on=['iso_code'], how='inner')\n",
    "df.info()"
   ]
  },
  {
   "cell_type": "markdown",
   "metadata": {},
   "source": [
    "# SVG"
   ]
  },
  {
   "cell_type": "code",
   "execution_count": 529,
   "metadata": {},
   "outputs": [],
   "source": [
    "HEIGHT = 800\n",
    "WIDTH = 200"
   ]
  },
  {
   "cell_type": "code",
   "execution_count": 556,
   "metadata": {},
   "outputs": [
    {
     "data": {
      "text/plain": "4.98"
     },
     "execution_count": 556,
     "metadata": {},
     "output_type": "execute_result"
    }
   ],
   "source": [
    "df[df.location=='India'].people_vaccinated_per_hundred.max()"
   ]
  },
  {
   "cell_type": "code",
   "execution_count": 573,
   "metadata": {},
   "outputs": [
    {
     "name": "stdout",
     "output_type": "stream",
     "text": [
      "L 0.0 799.9913535 L  ::: L 134.4 762.9674827 \n",
      "World ['China']\n",
      "L 0.0 800.0 L 1.2 80 ::: L 134.4 793.1321162 \n",
      "India ['China']\n",
      "L 0.0 800.0 L 1.2 80 ::: L 134.4 789.3785076 \n",
      "United States ['China']\n",
      "L 0.0 800.0 L 1.2 80 :::  L 134.4 794.377651 \n",
      "European Union ['China']\n",
      "L 0.0 800.0 L 1.2 80 ::: L 134.4 799.2413722 \n",
      "Africa ['China']\n",
      "L 0.0 800.0 L 1.2 80 ::: L 134.4 796.9131688 \n",
      "South America ['China']\n",
      "L 0.0 800.0 L 1.2 80 ::: 800.0 L 134.4 800.0 \n",
      "China ['China']\n"
     ]
    }
   ],
   "source": [
    "dont_draw_list = ['China']\n",
    "draw_text_finish_line_list = [\"World\"]\n",
    "\n",
    "def get_graph_for_location( location, color='black', hor_scale=1.2, ver_scale=1, emoji=\"🏳\"): \n",
    "    fill = color\n",
    "\n",
    "    format_df = df[df.location=='World'].sort_values('date').reset_index()['date'].to_frame()\n",
    "    location_df = df[df.location==location].set_index('date').people_vaccinated.fillna(method='bfill').to_frame().reset_index()\n",
    "    m_df = format_df.merge(location_df, on=['date'], how='left').fillna(0)\n",
    "\n",
    "    vacc_list = [ HEIGHT-(i * ver_scale) for i in ((m_df.people_vaccinated/10000000).values.tolist())]\n",
    "    ran_list = [ (i * hor_scale) for i in  list(range(0, len(vacc_list)))]\n",
    "    path_string = \"\"\n",
    "    for i,j in zip(ran_list, vacc_list) :\n",
    "        path_string += \"L \"\n",
    "        path_string += (str(i)+\" \")\n",
    "        path_string += (str(j)+\" \")\n",
    "    print(path_string[:20],\":::\", path_string[-20:])\n",
    "    d_string_area = 'M 0 '+str(HEIGHT)+ path_string + 'L '+str(ran_list[-1])+' '+str(HEIGHT)+' z'\n",
    "    d_string_line = 'M 0 '+str(HEIGHT)+ path_string + ' '\n",
    "    \n",
    "    area_svg = \"<path fill=\\\"{1}\\\" stroke-width=0.5 opacity=0.1 d=\\\"{0}\\\"/>\".format(d_string_area, color)\n",
    "    line_svg = \"<path fill=\\\"none\\\" stroke-width=0.5 stroke=\\\"{1}\\\" d=\\\"{0}\\\"/>\".format(d_string_line, color)\n",
    "\n",
    "    text_svg = '''\n",
    "    <text \n",
    "        x=\"{0}\" y=\"{1}\" \n",
    "        font-family=\"Verdana\" \n",
    "        text-anchor=\"start\" \n",
    "        font-size=\"4\" \n",
    "        transform=\"scale (0.5,1)\" \n",
    "        fill=\"{3}\">\n",
    "        {4}&nbsp;{2}&nbsp;\n",
    "            <tspan\n",
    "                font-family=\"Verdana\" \n",
    "                text-anchor=\"start\" \n",
    "                font-size=\"3\" \n",
    "                transform=\"scale (0.5,1)\" \n",
    "                fill=\"#eee\">\n",
    "                {5:.1f}%\n",
    "            </tspan>\n",
    "    </text>'''.format(\n",
    "        ran_list[-1]*2 + 2,\n",
    "        vacc_list[-1],\n",
    "        location,\n",
    "        color,\n",
    "        emoji,\n",
    "        df[df.location==location].people_vaccinated_per_hundred.max()\n",
    "    )\n",
    "\n",
    "    finish_line_loc = HEIGHT - df[df.location==location].population.values[0]/10000000\n",
    "    finish_line_svg = '''\n",
    "    <path \n",
    "        fill=\"none\" stroke=\"{color}\" \n",
    "        stroke-width=\"0.5\" \n",
    "        stroke-dasharray=\"1,0.5\" \n",
    "        d=\"M0 {value} l200 0\">\n",
    "    </path>'''.format( \n",
    "        value =  finish_line_loc,\n",
    "        color = color)\n",
    "\n",
    "    if location in draw_text_finish_line_list:\n",
    "        finish_line_svg +='''\n",
    "        <text x=\"375\" y=\"{value}\" \n",
    "        font-family=\"Verdana\" \n",
    "        text-anchor=\"end\" font-size=\"5\" transform=\"scale (0.5,1)\" fill=\"white\">World Finish Line</text>'''.format(value=finish_line_loc-1)\n",
    "\n",
    "    print(location, dont_draw_list)\n",
    "    if location in dont_draw_list:\n",
    "        ret_string = \"\\t {}\".format(finish_line_svg)\n",
    "    else :\n",
    "        ret_string =  \"\\t {0}\\n\\t {1}\\n\\t {2}\\n\\t {3}\".format(area_svg, line_svg,text_svg, finish_line_svg)\n",
    "\n",
    "    return ret_string\n",
    "\n",
    "def group_location (locations = [], colors = []):\n",
    "    ret_string = \"\"\n",
    "\n",
    "    for l, c in zip(locations, colors):\n",
    "        ret_string += (get_graph_for_location(location=l, color=c, emoji=\"\"))\n",
    "\n",
    "    return ret_string\n",
    "\n",
    "def grid_pattern():\n",
    "\n",
    "    ret_string = '''\n",
    "        <defs>\n",
    "            <pattern \n",
    "                id=\"pattern1\" \n",
    "                patternUnits=\"userSpaceOnUse\" \n",
    "                x=\"0\" y=\"0\" width=\"10\" height=\"10\" \n",
    "                viewBox=\"0 0 4 4\">\n",
    "                <path \n",
    "                    d=\"M 0 0 L 0 4 L 4 4 L 4 0 Z\" \n",
    "                    fill=\"none\" \n",
    "                    stroke-width=\"0.05\" \n",
    "                    stroke=\"#575757\"></path>\n",
    "            </pattern>\n",
    "  \n",
    "        </defs>\n",
    "        <g>\n",
    "            <rect x=\"0\" y=\"0\" \n",
    "                  width=\"100%\" \n",
    "                  height=\"100%\" \n",
    "                  fill=\"url(#pattern1)\" />\n",
    "        </g>\n",
    "    '''\n",
    "\n",
    "    grid_tick_y = \"\"\n",
    "    for i in range(5, 80,5):\n",
    "        grid_tick_y += ''' <text x=\"5\" y=\"{y}\" >{pop:.1f}B</text>'''.format(pop=i/10, y= 800-(i*10))\n",
    "    grid_tick_y = '''\n",
    "    <g fill=\"#aaa\" font-family=\"Verdana\" text-anchor=\"start\" font-size=\"3\" transform=\"scale (0.5,1)\" >\n",
    "        {}\n",
    "    </g>\n",
    "    '''.format(grid_tick_y)\n",
    "\n",
    "    return ret_string + grid_tick_y\n",
    "\n",
    "def background():\n",
    "    return '''\n",
    "        <defs xmlns=\"http://www.w3.org/2000/svg\">\n",
    "\t\t\t\t\t<linearGradient xmlns=\"http://www.w3.org/2000/svg\" id=\"gradient-fill\" x1=\"0\" y1=\"0\" x2=\"800\" y2=\"0\" gradientUnits=\"userSpaceOnUse\">\t\t\t\t\n",
    "\t\t\t\t\t\t\t<stop offset=\"0\" stop-color=\"#060d20\"/>\n",
    "                            <stop offset=\"0.14285714285714285\" stop-color=\"#091228\"/>\n",
    "                            <stop offset=\"0.2857142857142857\" stop-color=\"#091630\"/>\n",
    "                            <stop offset=\"0.42857142857142855\" stop-color=\"#091a38\"/>\n",
    "                            <stop offset=\"0.5714285714285714\" stop-color=\"#0a1d40\"/>\n",
    "                            <stop offset=\"0.7142857142857142\" stop-color=\"#0b2149\"/>\n",
    "                            <stop offset=\"0.8571428571428571\" stop-color=\"#0c2451\"/>\n",
    "                            <stop offset=\"1\" stop-color=\"#0e285a\"/>\n",
    "\t\t\t\t\t</linearGradient>\n",
    "\t\t\t\t</defs>\n",
    "\n",
    "    <rect fill=\"url(#gradient-fill)\" width=\"200\" height=\"800\"/>\n",
    "    '''\n",
    "\n",
    "html_string = '''\n",
    "<html style=\"width:100%;height:100%;\">\n",
    "<body style=\"width:100%;height:100%;margin:0;\">\n",
    "<div style=\"height: 400%; width: 100%; border:2px solid #000;  position: absolute;\" >\n",
    "  <svg height=\"100%\" width=\"100%\" viewBox=\"0 0 200 800\" position=\"absolute\" preserveAspectRatio=\"none\" >\n",
    "    \n",
    "    {background}\n",
    "    {grid_pattern}\n",
    "    {group_location}\n",
    " </svg>\n",
    "</div>\n",
    "\n",
    "<div style=\"height: 70%;width: 35%;top:15%;left:3%;padding-top:2%;background-color: #222;position:relative;\n",
    "  text-align: center;opacity: 0.5;  border: 5px solid black;\">\n",
    "<h1 style=\"color:white;text-shadow: 3px 3px black;font-size: 50px;  font-family: \"Lucida Console\", Monaco, monospace;\">  Vaccine World Cup</h1>\n",
    "<hr>\n",
    "</div>\n",
    "\n",
    "</body>\n",
    "</html>\n",
    "'''.format(\n",
    "\n",
    "    group_location = group_location(\n",
    "    locations=['World','India', 'United States','European Union', 'Africa','South America', 'China'],\n",
    "    colors=['#cccccc','#FF9933', '#2D89FF' ,'#0055FF','#00c918','#f8ff33',\"#DE2910\"],\n",
    "    ),\n",
    "\n",
    "    grid_pattern = grid_pattern(),\n",
    "\n",
    "    background = background()\n",
    "    \n",
    "    )\n",
    "\n",
    "\n",
    "f = open('/Users/santa/Projects/vaccine-world-cup/index.html','w')\n",
    "f.write(html_string)\n",
    "f.close()"
   ]
  },
  {
   "cell_type": "code",
   "execution_count": 558,
   "metadata": {},
   "outputs": [
    {
     "data": {
      "text/plain": "370325173.0"
     },
     "execution_count": 558,
     "metadata": {},
     "output_type": "execute_result"
    }
   ],
   "source": [
    "df[df.location==\"World\"].people_vaccinated.max()"
   ]
  },
  {
   "cell_type": "code",
   "execution_count": 564,
   "metadata": {},
   "outputs": [],
   "source": []
  },
  {
   "cell_type": "code",
   "execution_count": 565,
   "metadata": {},
   "outputs": [
    {
     "data": {
      "text/plain": "' <text x=\"15\" y=\"750\" >500M</text> <text x=\"15\" y=\"700\" >1000M</text> <text x=\"15\" y=\"650\" >1500M</text> <text x=\"15\" y=\"600\" >2000M</text> <text x=\"15\" y=\"550\" >2500M</text> <text x=\"15\" y=\"500\" >3000M</text> <text x=\"15\" y=\"450\" >3500M</text> <text x=\"15\" y=\"400\" >4000M</text> <text x=\"15\" y=\"350\" >4500M</text> <text x=\"15\" y=\"300\" >5000M</text> <text x=\"15\" y=\"250\" >5500M</text> <text x=\"15\" y=\"200\" >6000M</text> <text x=\"15\" y=\"150\" >6500M</text> <text x=\"15\" y=\"100\" >7000M</text> <text x=\"15\" y=\"50\" >7500M</text>'"
     },
     "execution_count": 565,
     "metadata": {},
     "output_type": "execute_result"
    }
   ],
   "source": [
    "grid_tick_y"
   ]
  },
  {
   "cell_type": "code",
   "execution_count": null,
   "metadata": {},
   "outputs": [],
   "source": []
  }
 ],
 "metadata": {
  "kernelspec": {
   "display_name": "Python 3",
   "language": "python",
   "name": "python3"
  },
  "language_info": {
   "codemirror_mode": {
    "name": "ipython",
    "version": 3
   },
   "file_extension": ".py",
   "mimetype": "text/x-python",
   "name": "python",
   "nbconvert_exporter": "python",
   "pygments_lexer": "ipython3",
   "version": "3.9.2"
  },
  "metadata": {
   "interpreter": {
    "hash": "aee8b7b246df8f9039afb4144a1f6fd8d2ca17a180786b69acc140d282b71a49"
   }
  }
 },
 "nbformat": 4,
 "nbformat_minor": 2
}